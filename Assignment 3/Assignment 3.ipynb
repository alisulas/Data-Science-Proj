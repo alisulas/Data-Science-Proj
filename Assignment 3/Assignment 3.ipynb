{
 "cells": [
  {
   "cell_type": "markdown",
   "id": "c3e616df-5f51-4e21-b283-19963361e7ec",
   "metadata": {},
   "source": [
    "# Table CSV App\n",
    "#### The program flow:\n",
    "1. Read table form CSV files\n",
    "2. Display a list of available table\n",
    "3. Displays a table given its index\n",
    "4. Duplicate a table"
   ]
  },
  {
   "cell_type": "code",
   "execution_count": null,
   "id": "a3636a09-8c66-4ee4-a56c-96bf782bf565",
   "metadata": {},
   "outputs": [],
   "source": []
  }
 ],
 "metadata": {
  "kernelspec": {
   "display_name": "Python 3 (ipykernel)",
   "language": "python",
   "name": "python3"
  },
  "language_info": {
   "codemirror_mode": {
    "name": "ipython",
    "version": 3
   },
   "file_extension": ".py",
   "mimetype": "text/x-python",
   "name": "python",
   "nbconvert_exporter": "python",
   "pygments_lexer": "ipython3",
   "version": "3.13.0"
  }
 },
 "nbformat": 4,
 "nbformat_minor": 5
}
