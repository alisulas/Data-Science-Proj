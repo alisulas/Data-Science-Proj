{
 "cells": [
  {
   "cell_type": "markdown",
   "metadata": {
    "jp-MarkdownHeadingCollapsed": true
   },
   "source": [
    "## Operators"
   ]
  },
  {
   "cell_type": "code",
   "execution_count": 42,
   "metadata": {},
   "outputs": [
    {
     "name": "stdout",
     "output_type": "stream",
     "text": [
      "3\n",
      "3.3333333333333335\n",
      "1\n"
     ]
    }
   ],
   "source": [
    "x = 3\n",
    "y = 10\n",
    "\n",
    "print(y/x)\n",
    "print(y//x)\n",
    "\n",
    "print(y%x)"
   ]
  },
  {
   "cell_type": "code",
   "execution_count": 8,
   "metadata": {},
   "outputs": [
    {
     "name": "stdout",
     "output_type": "stream",
     "text": [
      "1\n",
      "2\n"
     ]
    }
   ],
   "source": [
    "print(10 % 3)             # modulus(%)\n",
    "print(8 // 3)            # Floor division operator(//)"
   ]
  },
  {
   "cell_type": "code",
   "execution_count": 9,
   "metadata": {},
   "outputs": [
    {
     "name": "stdout",
     "output_type": "stream",
     "text": [
      "num_int 10\n",
      "num_float: 10.0\n"
     ]
    }
   ],
   "source": [
    "# int to float\n",
    "num_int = 10\n",
    "print('num_int',num_int)         # 10\n",
    "num_float = float(num_int)\n",
    "print('num_float:', num_float)   # 10.0\n"
   ]
  },
  {
   "cell_type": "code",
   "execution_count": 10,
   "metadata": {},
   "outputs": [
    {
     "name": "stdout",
     "output_type": "stream",
     "text": [
      "Floating Point Number, PI 3.14\n",
      "Floating Point Number, gravity 9.81\n"
     ]
    }
   ],
   "source": [
    "# Floating numbers\n",
    "print('Floating Point Number, PI', 3.14)\n",
    "print('Floating Point Number, gravity', 9.81)\n"
   ]
  },
  {
   "cell_type": "code",
   "execution_count": 16,
   "metadata": {},
   "outputs": [
    {
     "name": "stdout",
     "output_type": "stream",
     "text": [
      "Base: 5.0\n",
      "The area of the triangel is 7.5\n"
     ]
    }
   ],
   "source": [
    "Base = float(input('Base: '))\n",
    "Height = float(input('Height: '))\n",
    "\n",
    "area = 0.5 * Base * Height\n",
    "\n",
    "print(f'Base: {Base}')\n",
    "\n",
    "print(f'The area of the triangel is {area}')\n"
   ]
  },
  {
   "cell_type": "code",
   "execution_count": 24,
   "metadata": {},
   "outputs": [
    {
     "name": "stdout",
     "output_type": "stream",
     "text": [
      "['banana', 'mango', 'apple']\n",
      "3\n",
      "banana\n",
      "2\n"
     ]
    }
   ],
   "source": [
    "#lists\n",
    "\n",
    "fruits = ['banana', 'mango', 'apple']\n",
    "print(fruits)\n",
    "print(len(fruits))\n",
    "print(fruits[0])\n",
    "print(len(fruits) - 1)"
   ]
  },
  {
   "cell_type": "code",
   "execution_count": 38,
   "metadata": {},
   "outputs": [
    {
     "name": "stdout",
     "output_type": "stream",
     "text": [
      "('banana', 'orange', 'mango', 'lemon')\n",
      "('banana', 'orange', 'mango', 'lemon')\n",
      "('banana', 'orange', 'mango')\n"
     ]
    }
   ],
   "source": [
    "fruits = ('banana', 'orange', 'mango', 'lemon')\n",
    "print(fruits[0:4])\n",
    "print(fruits[0:])\n",
    "print(fruits[0:3])"
   ]
  },
  {
   "cell_type": "markdown",
   "metadata": {},
   "source": [
    "i = 1\n",
    "while i <= 4:\n",
    "    print(i)\n",
    "    i = i + 1"
   ]
  },
  {
   "cell_type": "code",
   "execution_count": null,
   "metadata": {},
   "outputs": [],
   "source": [
    "i = 1\n",
    "while i <= 4:\n",
    "    print(i)\n",
    "    i = i + 1"
   ]
  },
  {
   "cell_type": "markdown",
   "metadata": {},
   "source": [
    "# IF Conditional"
   ]
  },
  {
   "cell_type": "code",
   "execution_count": 20,
   "metadata": {},
   "outputs": [
    {
     "name": "stdout",
     "output_type": "stream",
     "text": [
      "a is 10 and it's above b0\n"
     ]
    }
   ],
   "source": [
    "a = 10\n",
    "if a > 20:\n",
    "    print(\"a is 10 and it's below 20\")\n",
    "elif a < 10:\n",
    "    print(\"a is 10 and it's above b5\")\n",
    "else:\n",
    "    print(\"a is 10 and it's above b0\")"
   ]
  },
  {
   "cell_type": "code",
   "execution_count": 24,
   "metadata": {},
   "outputs": [
    {
     "name": "stdout",
     "output_type": "stream",
     "text": [
      "a is positive number\n"
     ]
    }
   ],
   "source": [
    "a = 10\n",
    "if a > 0:\n",
    "    print(\"a is positive number\")\n",
    "elif a < 0:\n",
    "    print(\"a is a negative number\")\n",
    "else:\n",
    "    print(\"a is zero\")"
   ]
  },
  {
   "cell_type": "code",
   "execution_count": 29,
   "metadata": {},
   "outputs": [
    {
     "name": "stdout",
     "output_type": "stream",
     "text": [
      "A is negatif number\n"
     ]
    }
   ],
   "source": [
    "a = -1\n",
    "print(\"a is positif number\") if a > 0 else print(\"A is negatif number\") "
   ]
  },
  {
   "cell_type": "code",
   "execution_count": 46,
   "metadata": {},
   "outputs": [
    {
     "name": "stdout",
     "output_type": "stream",
     "text": [
      "A is a positive and even integer\n"
     ]
    }
   ],
   "source": [
    "a = 10\n",
    "if a > 0:\n",
    "    print('A is a positive and even integer') if a % 2 == 0 else print('A is a positive number')\n",
    "elif a == 0:\n",
    "    print('A is zero')\n",
    "else:\n",
    "    print('A is a negative number')"
   ]
  },
  {
   "cell_type": "code",
   "execution_count": 54,
   "metadata": {},
   "outputs": [
    {
     "name": "stdin",
     "output_type": "stream",
     "text": [
      "Enter your age: 15\n"
     ]
    },
    {
     "name": "stdout",
     "output_type": "stream",
     "text": [
      "you need 3 to drive\n"
     ]
    }
   ],
   "source": [
    "age = int(input(\"Enter your age:\"))\n",
    "\n",
    "if age >= 18:\n",
    "    print(\"You are old enough to drive\")\n",
    "else:\n",
    "    age_need = 18 - age\n",
    "    print(f\"you need {age_need} to drive\")"
   ]
  },
  {
   "cell_type": "markdown",
   "metadata": {},
   "source": [
    "# Roll the dice and test some library"
   ]
  },
  {
   "cell_type": "code",
   "execution_count": null,
   "metadata": {},
   "outputs": [
    {
     "name": "stdin",
     "output_type": "stream",
     "text": [
      "Want to roll the dice? (y/n):  y\n"
     ]
    },
    {
     "name": "stdout",
     "output_type": "stream",
     "text": [
      "You rolled 2 and 3\n"
     ]
    },
    {
     "name": "stdin",
     "output_type": "stream",
     "text": [
      "Want to roll the dice? (y/n):  g\n"
     ]
    },
    {
     "name": "stdout",
     "output_type": "stream",
     "text": [
      "input is not valid\n"
     ]
    }
   ],
   "source": [
    "import random\n",
    "\n",
    "while True:\n",
    "    user_input = str(input(\"Want to roll the dice? (y/n): \"))\n",
    "    if user_input.lower() == 'y':\n",
    "        die1 = random.randint(1, 6)\n",
    "        die2 = random.randint(1, 6)\n",
    "        print(f\"You rolled {die1} and {die2}\")\n",
    "    elif user_input.lower() == 'n':\n",
    "        print(\"thank you\")\n",
    "        break\n",
    "    else:\n",
    "        print(\"input is not valid\")"
   ]
  }
 ],
 "metadata": {
  "kernelspec": {
   "display_name": "Python 3 (ipykernel)",
   "language": "python",
   "name": "python3"
  },
  "language_info": {
   "codemirror_mode": {
    "name": "ipython",
    "version": 3
   },
   "file_extension": ".py",
   "mimetype": "text/x-python",
   "name": "python",
   "nbconvert_exporter": "python",
   "pygments_lexer": "ipython3",
   "version": "3.13.0"
  }
 },
 "nbformat": 4,
 "nbformat_minor": 4
}
