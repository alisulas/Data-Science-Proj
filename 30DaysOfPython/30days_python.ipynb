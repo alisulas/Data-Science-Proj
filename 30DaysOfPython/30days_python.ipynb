{
 "cells": [
  {
   "cell_type": "code",
   "execution_count": 5,
   "metadata": {},
   "outputs": [
    {
     "name": "stdout",
     "output_type": "stream",
     "text": [
      "5\n",
      "2\n",
      "6\n",
      "1.5\n",
      "9\n",
      "1\n",
      "1\n",
      "<class 'int'>\n",
      "<class 'float'>\n",
      "<class 'complex'>\n",
      "<class 'str'>\n",
      "<class 'list'>\n",
      "<class 'dict'>\n",
      "<class 'set'>\n",
      "<class 'tuple'>\n"
     ]
    }
   ],
   "source": [
    "print(2 + 3)             # addition(+)\n",
    "print(3 - 1)             # subtraction(-)\n",
    "print(2 * 3)             # multiplication(*)\n",
    "print(3 / 2)             # division(/)\n",
    "print(3 ** 2)            # exponential(**)\n",
    "print(3 % 2)             # modulus(%)\n",
    "print(3 // 2)            # Floor division operator(//)\n",
    "\n",
    "# Checking data types\n",
    "print(type(10))          # Int\n",
    "print(type(3.14))        # Float\n",
    "print(type(1 + 3j))      # Complex number\n",
    "print(type('Asabeneh'))  # String\n",
    "print(type([1, 2, 3]))   # List\n",
    "print(type({'name':'Asabeneh'})) # Dictionary\n",
    "print(type({9.8, 3.14, 2.7}))    # Set\n",
    "print(type((9.8, 3.14, 2.7)))    # Tuple"
   ]
  },
  {
   "cell_type": "code",
   "execution_count": 8,
   "metadata": {},
   "outputs": [
    {
     "name": "stdout",
     "output_type": "stream",
     "text": [
      "1\n",
      "2\n"
     ]
    }
   ],
   "source": [
    "print(10 % 3)             # modulus(%)\n",
    "print(8 // 3)            # Floor division operator(//)"
   ]
  },
  {
   "cell_type": "code",
   "execution_count": 9,
   "metadata": {},
   "outputs": [
    {
     "name": "stdout",
     "output_type": "stream",
     "text": [
      "num_int 10\n",
      "num_float: 10.0\n"
     ]
    }
   ],
   "source": [
    "# int to float\n",
    "num_int = 10\n",
    "print('num_int',num_int)         # 10\n",
    "num_float = float(num_int)\n",
    "print('num_float:', num_float)   # 10.0\n"
   ]
  },
  {
   "cell_type": "code",
   "execution_count": 10,
   "metadata": {},
   "outputs": [
    {
     "name": "stdout",
     "output_type": "stream",
     "text": [
      "Floating Point Number, PI 3.14\n",
      "Floating Point Number, gravity 9.81\n"
     ]
    }
   ],
   "source": [
    "# Floating numbers\n",
    "print('Floating Point Number, PI', 3.14)\n",
    "print('Floating Point Number, gravity', 9.81)\n"
   ]
  },
  {
   "cell_type": "code",
   "execution_count": 16,
   "metadata": {},
   "outputs": [
    {
     "name": "stdout",
     "output_type": "stream",
     "text": [
      "Base: 5.0\n",
      "The area of the triangel is 7.5\n"
     ]
    }
   ],
   "source": [
    "Base = float(input('Base: '))\n",
    "Height = float(input('Height: '))\n",
    "\n",
    "area = 0.5 * Base * Height\n",
    "\n",
    "print(f'Base: {Base}')\n",
    "\n",
    "print(f'The area of the triangel is {area}')\n"
   ]
  },
  {
   "cell_type": "code",
   "execution_count": 24,
   "metadata": {},
   "outputs": [
    {
     "name": "stdout",
     "output_type": "stream",
     "text": [
      "['banana', 'mango', 'apple']\n",
      "3\n",
      "banana\n",
      "2\n"
     ]
    }
   ],
   "source": [
    "#lists\n",
    "\n",
    "fruits = ['banana', 'mango', 'apple']\n",
    "print(fruits)\n",
    "print(len(fruits))\n",
    "print(fruits[0])\n",
    "print(len(fruits) - 1)"
   ]
  },
  {
   "cell_type": "code",
   "execution_count": 38,
   "metadata": {},
   "outputs": [
    {
     "name": "stdout",
     "output_type": "stream",
     "text": [
      "('banana', 'orange', 'mango', 'lemon')\n",
      "('banana', 'orange', 'mango', 'lemon')\n",
      "('banana', 'orange', 'mango')\n"
     ]
    }
   ],
   "source": [
    "fruits = ('banana', 'orange', 'mango', 'lemon')\n",
    "print(fruits[0:4])\n",
    "print(fruits[0:])\n",
    "print(fruits[0:3])"
   ]
  },
  {
   "cell_type": "code",
   "execution_count": null,
   "metadata": {},
   "outputs": [],
   "source": []
  }
 ],
 "metadata": {
  "kernelspec": {
   "display_name": "Python 3",
   "language": "python",
   "name": "python3"
  },
  "language_info": {
   "codemirror_mode": {
    "name": "ipython",
    "version": 3
   },
   "file_extension": ".py",
   "mimetype": "text/x-python",
   "name": "python",
   "nbconvert_exporter": "python",
   "pygments_lexer": "ipython3",
   "version": "3.13.0"
  }
 },
 "nbformat": 4,
 "nbformat_minor": 2
}
