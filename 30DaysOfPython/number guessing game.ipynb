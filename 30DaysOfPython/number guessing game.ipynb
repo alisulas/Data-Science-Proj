{
 "cells": [
  {
   "cell_type": "markdown",
   "id": "769e317b-60c4-4684-8fff-8df676a6764a",
   "metadata": {},
   "source": [
    "# Number Guessing Game\n",
    "#### program flow\n",
    "1. generate random numbers 1-100\n",
    "2. ask user input\n",
    "3. if user input > print it's grater\n",
    "4. elif user input < print it's lower\n",
    "5. loop until input correct"
   ]
  },
  {
   "cell_type": "code",
   "execution_count": null,
   "id": "2bc6c235-129a-4ea9-8d22-30eb21033cf9",
   "metadata": {},
   "outputs": [
    {
     "name": "stdin",
     "output_type": "stream",
     "text": [
      "Please enter your numbers:  k\n"
     ]
    },
    {
     "name": "stdout",
     "output_type": "stream",
     "text": [
      "please enters valid integer\n"
     ]
    },
    {
     "name": "stdin",
     "output_type": "stream",
     "text": [
      "Please enter your numbers:  l\n"
     ]
    },
    {
     "name": "stdout",
     "output_type": "stream",
     "text": [
      "please enters valid integer\n"
     ]
    },
    {
     "name": "stdin",
     "output_type": "stream",
     "text": [
      "Please enter your numbers:  3\n"
     ]
    },
    {
     "name": "stdout",
     "output_type": "stream",
     "text": [
      "WRONG, your guess is too low\n"
     ]
    }
   ],
   "source": [
    "import random\n",
    "\n",
    "\n",
    "target_number = random.randint(1, 100)\n",
    "\n",
    "while True:\n",
    "    try:\n",
    "        user_input = int(input(\"Please enter your numbers: \"))\n",
    "        if user_input > target_number:\n",
    "            print(\"WRONG. your guess is too high\")\n",
    "        elif user_input < target_number:\n",
    "            print(\"WRONG, your guess is too low\")\n",
    "        else:\n",
    "            print(f\"yeaaah. correct. the number is {target_number}\")\n",
    "            break\n",
    "    except ValueError:\n",
    "        print(\"please enters valid integer\")"
   ]
  },
  {
   "cell_type": "code",
   "execution_count": 12,
   "id": "9f1ccd1c-d0ac-4fcb-8fcf-c93ecf1cede6",
   "metadata": {},
   "outputs": [
    {
     "name": "stdin",
     "output_type": "stream",
     "text": [
      "Guess a number between 1 and 100:  80\n"
     ]
    },
    {
     "name": "stdout",
     "output_type": "stream",
     "text": [
      "Too high! Try again.\n",
      "\n"
     ]
    },
    {
     "name": "stdin",
     "output_type": "stream",
     "text": [
      "Guess a number between 1 and 100:  50\n"
     ]
    },
    {
     "name": "stdout",
     "output_type": "stream",
     "text": [
      "Too low! Try again.\n",
      "\n"
     ]
    },
    {
     "name": "stdin",
     "output_type": "stream",
     "text": [
      "Guess a number between 1 and 100:  60\n"
     ]
    },
    {
     "name": "stdout",
     "output_type": "stream",
     "text": [
      "Too high! Try again.\n",
      "\n"
     ]
    },
    {
     "name": "stdin",
     "output_type": "stream",
     "text": [
      "Guess a number between 1 and 100:  55\n"
     ]
    },
    {
     "name": "stdout",
     "output_type": "stream",
     "text": [
      "Congratulations! You guessed the number in 4 attempts. 55\n"
     ]
    }
   ],
   "source": [
    "import random\n",
    "\n",
    "# Define the range for the target number\n",
    "MIN_NUMBER = 1\n",
    "MAX_NUMBER = 100\n",
    "\n",
    "\n",
    "target_number = random.randint(MIN_NUMBER, MAX_NUMBER)\n",
    "attempts = 0\n",
    "\n",
    "\n",
    "\n",
    "# Start the game loop\n",
    "while True:\n",
    "    try:\n",
    "        # Prompt the user for their guess\n",
    "        guess = int(input(f\"Guess a number between {MIN_NUMBER} and {MAX_NUMBER}: \"))\n",
    "        attempts += 1  # Increment the attempt count\n",
    "\n",
    "        # Check if the guess is within the valid range\n",
    "        if guess < MIN_NUMBER or guess > MAX_NUMBER:\n",
    "            print(f\"Please enter a number within the range {MIN_NUMBER} to {MAX_NUMBER}.\\n\")\n",
    "            continue  # Prompt the user to guess again\n",
    "\n",
    "        # Evaluate the guess\n",
    "        if guess < target_number:\n",
    "            print(\"Too low! Try again.\\n\")\n",
    "        elif guess > target_number:\n",
    "            print(\"Too high! Try again.\\n\")\n",
    "        else:\n",
    "            print(f\"Congratulations! You guessed the number in {attempts} attempts. {guess}\")\n",
    "            break  # Exit the loop since the correct guess was made\n",
    "\n",
    "    except ValueError:\n",
    "        # Handle non-integer inputs\n",
    "        print(\"Invalid input. Please enter a valid integer.\\n\")        \n"
   ]
  },
  {
   "cell_type": "code",
   "execution_count": null,
   "id": "542eb1dc-dca2-4340-812d-bee907dc384d",
   "metadata": {},
   "outputs": [],
   "source": []
  }
 ],
 "metadata": {
  "kernelspec": {
   "display_name": "Python 3 (ipykernel)",
   "language": "python",
   "name": "python3"
  },
  "language_info": {
   "codemirror_mode": {
    "name": "ipython",
    "version": 3
   },
   "file_extension": ".py",
   "mimetype": "text/x-python",
   "name": "python",
   "nbconvert_exporter": "python",
   "pygments_lexer": "ipython3",
   "version": "3.13.0"
  }
 },
 "nbformat": 4,
 "nbformat_minor": 5
}
