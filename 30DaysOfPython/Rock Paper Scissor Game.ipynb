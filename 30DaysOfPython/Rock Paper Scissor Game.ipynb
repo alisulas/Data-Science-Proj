{
 "cells": [
  {
   "cell_type": "markdown",
   "id": "769e317b-60c4-4684-8fff-8df676a6764a",
   "metadata": {},
   "source": [
    "# Rock Paper Scissor Game\n",
    "#### program flow\n",
    "1. computer chose R,P,S\n",
    "2. user input R,P,S\n",
    "3. if user input = generated computer, say congratulation\n",
    "4. if user input not same, say you lose\n",
    "5. after win/lose, ask to continue (y/n)\n",
    "6. if user input anything else, say invalid input"
   ]
  },
  {
   "cell_type": "code",
   "execution_count": 57,
   "id": "2bc6c235-129a-4ea9-8d22-30eb21033cf9",
   "metadata": {},
   "outputs": [
    {
     "name": "stdin",
     "output_type": "stream",
     "text": [
      "please choose between r/p/s: n\n"
     ]
    },
    {
     "name": "stdout",
     "output_type": "stream",
     "text": [
      "invalid input\n",
      "you loose\n"
     ]
    }
   ],
   "source": [
    "import random\n",
    "\n",
    "\n",
    "\n",
    "comp_chose = random.choices([\"R\", \"P\", \"S\"])\n",
    "\n",
    "choices = [\"r\", \"p\", \"s\"]\n",
    "\n",
    "\n",
    "user_input = input(\"please choose between r/p/s:\").lower()\n",
    "if user_input not in choices:\n",
    "    print(\"invalid input\")\n",
    "\n",
    "\n",
    "\n",
    "if user_input != comp_chose:\n",
    "    print(\"you loose\")\n",
    "elif user_input == comp_chose:\n",
    "    print(\"you win\")\n",
    "else:\n",
    "    print(\"your input is not valid\")\n",
    "\n"
   ]
  },
  {
   "cell_type": "code",
   "execution_count": 71,
   "id": "542eb1dc-dca2-4340-812d-bee907dc384d",
   "metadata": {},
   "outputs": [
    {
     "name": "stdout",
     "output_type": "stream",
     "text": [
      "Welcome to Rock-Paper-Scissors!\n",
      "\n"
     ]
    },
    {
     "name": "stdin",
     "output_type": "stream",
     "text": [
      "Enter your choice (R for Rock, P for Paper, S for Scissors):  G\n"
     ]
    },
    {
     "name": "stdout",
     "output_type": "stream",
     "text": [
      "Invalid input. Please enter only R, P, or S.\n",
      "\n"
     ]
    },
    {
     "name": "stdin",
     "output_type": "stream",
     "text": [
      "Enter your choice (R for Rock, P for Paper, S for Scissors):  h\n"
     ]
    },
    {
     "name": "stdout",
     "output_type": "stream",
     "text": [
      "Invalid input. Please enter only R, P, or S.\n",
      "\n"
     ]
    },
    {
     "name": "stdin",
     "output_type": "stream",
     "text": [
      "Enter your choice (R for Rock, P for Paper, S for Scissors):  R\n"
     ]
    },
    {
     "name": "stdout",
     "output_type": "stream",
     "text": [
      "\n",
      "You chose: Rock\n",
      "Computer chose: Paper\n",
      "Paper covers Rock. You lose!\n",
      "\n"
     ]
    },
    {
     "name": "stdin",
     "output_type": "stream",
     "text": [
      "Do you want to play again? (Y/N):  n\n"
     ]
    },
    {
     "name": "stdout",
     "output_type": "stream",
     "text": [
      "Thank you for playing! Goodbye.\n"
     ]
    }
   ],
   "source": [
    "\n",
    "def get_user_choice():\n",
    "    valid_choices = {'R', 'P', 'S'}\n",
    "    \n",
    "    while True:\n",
    "        user_input = input(\"Enter your choice (R for Rock, P for Paper, S for Scissors): \").strip().upper()    \n",
    "        if user_input in valid_choices:\n",
    "            return user_input\n",
    "        else:\n",
    "            print(\"Invalid input. Please enter only R, P, or S.\\n\")\n",
    "\n",
    "def get_computer_choice():\n",
    "    \"\"\"\n",
    "    Randomly select the computer's choice.\n",
    "    Returns the choice as 'R', 'P', or 'S'.\n",
    "    \"\"\"\n",
    "    import random\n",
    "    choices = ['R', 'P', 'S']\n",
    "    return random.choice(choices)\n",
    "\n",
    "def determine_winner(user, computer):\n",
    "    \"\"\"\n",
    "    Determine the winner based on user and computer choices.\n",
    "    Returns a string indicating the result.\n",
    "    \"\"\"\n",
    "    outcomes = {\n",
    "        ('R', 'S'): \"Rock crushes Scissors. You win!\",\n",
    "        ('P', 'R'): \"Paper covers Rock. You win!\",\n",
    "        ('S', 'P'): \"Scissors cut Paper. You win!\",\n",
    "        ('S', 'R'): \"Rock crushes Scissors. You lose!\",\n",
    "        ('R', 'P'): \"Paper covers Rock. You lose!\",\n",
    "        ('P', 'S'): \"Scissors cut Paper. You lose!\"\n",
    "    }\n",
    "    \n",
    "    if user == computer:\n",
    "        return \"It's a tie!\"\n",
    "    else:\n",
    "        return outcomes.get((user, computer), \"Unexpected outcome.\")\n",
    "\n",
    "def play_game():\n",
    "    \"\"\"\n",
    "    Play a single round of Rock-Paper-Scissors.\n",
    "    \"\"\"\n",
    "    user_choice = get_user_choice()\n",
    "    computer_choice = get_computer_choice()\n",
    "    \n",
    "    choice_full_names = {'R': 'Rock', 'P': 'Paper', 'S': 'Scissors'}\n",
    "    \n",
    "    print(f\"\\nYou chose: {choice_full_names[user_choice]}\")\n",
    "    print(f\"Computer chose: {choice_full_names[computer_choice]}\")\n",
    "    \n",
    "    result = determine_winner(user_choice, computer_choice)\n",
    "    print(result + \"\\n\")\n",
    "\n",
    "def main():\n",
    "    \"\"\"\n",
    "    Main function to manage the game flow.\n",
    "    \"\"\"\n",
    "    print(\"Welcome to Rock-Paper-Scissors!\\n\")\n",
    "    \n",
    "    while True:\n",
    "        play_game()\n",
    "        \n",
    "        # Ask the user if they want to play again\n",
    "        while True:\n",
    "            replay = input(\"Do you want to play again? (Y/N): \").strip().upper()\n",
    "            if replay == 'Y':\n",
    "                print(\"\\nStarting a new game...\\n\")\n",
    "                break\n",
    "            elif replay == 'N':\n",
    "                print(\"Thank you for playing! Goodbye.\")\n",
    "                return\n",
    "            else:\n",
    "                print(\"Invalid input. Please enter only Y or N.\\n\")\n",
    "\n",
    "if __name__ == \"__main__\":\n",
    "    main()"
   ]
  },
  {
   "cell_type": "code",
   "execution_count": 83,
   "id": "e2890983-4ac6-43d4-927e-2ec4c8097ae0",
   "metadata": {},
   "outputs": [
    {
     "name": "stdin",
     "output_type": "stream",
     "text": [
      "Enter your choice (R for Rock, P for Paper, S for Scissors):  b\n"
     ]
    },
    {
     "name": "stdout",
     "output_type": "stream",
     "text": [
      "Invalid input. Please enter only R, P, or S.\n",
      "\n"
     ]
    },
    {
     "name": "stdin",
     "output_type": "stream",
     "text": [
      "Enter your choice (R for Rock, P for Paper, S for Scissors):  r\n"
     ]
    },
    {
     "name": "stdout",
     "output_type": "stream",
     "text": [
      "\n",
      "You chose: R\n",
      "Computer chose: P\n",
      " you lose\n"
     ]
    }
   ],
   "source": [
    "import random\n",
    "\n",
    "valid_choices = ['R', 'P', 'S']\n",
    "    \n",
    "\n",
    "\n",
    "def get_user_choice():\n",
    "    \n",
    "    while True:\n",
    "        user_input = input(\"Enter your choice (R for Rock, P for Paper, S for Scissors): \").strip().upper()    \n",
    "        if user_input in valid_choices:\n",
    "            return user_input\n",
    "        else:\n",
    "            print(\"Invalid input. Please enter only R, P, or S.\\n\")\n",
    "\n",
    "def get_comp_choice():\n",
    "    comp_choice = random.choice(valid_choices)\n",
    "    return comp_choice\n",
    "\n",
    "def determine_winner(user, comp):\n",
    "    if user == comp:\n",
    "        return \"it's TIE\"\n",
    "    elif (\n",
    "        (user == \"R\" and comp == \"S\") or\n",
    "        (user == \"P\" and comp == \"R\") or\n",
    "        (user == \"S\" and comp == \"P\") ):\n",
    "        return \"you WIN\"\n",
    "    else:\n",
    "        return \"you lose\"\n",
    "\n",
    "\n",
    "def play_game():\n",
    "    user = get_user_choice()\n",
    "    comp = get_comp_choice()\n",
    "\n",
    "    result = determine_winner(user, comp)\n",
    "    \n",
    "    print(f\"\\nYou chose: {user}\")\n",
    "    print(f\"Computer chose: {comp}\")\n",
    "    print(f\" {result}\")\n",
    "\n",
    "play_game()"
   ]
  },
  {
   "cell_type": "code",
   "execution_count": 86,
   "id": "5f292f3d-bf6e-4254-a40d-af6ad7cd8ccc",
   "metadata": {},
   "outputs": [
    {
     "name": "stdout",
     "output_type": "stream",
     "text": [
      "Menu:\n",
      "1. Start Game\n",
      "2. Options\n",
      "3. Exit\n"
     ]
    },
    {
     "name": "stdin",
     "output_type": "stream",
     "text": [
      "Select an option (1/2/3):  1\n"
     ]
    },
    {
     "name": "stdout",
     "output_type": "stream",
     "text": [
      "Starting game...\n",
      "\n",
      "Menu:\n",
      "1. Start Game\n",
      "2. Options\n",
      "3. Exit\n"
     ]
    },
    {
     "name": "stdin",
     "output_type": "stream",
     "text": [
      "Select an option (1/2/3):  2\n"
     ]
    },
    {
     "name": "stdout",
     "output_type": "stream",
     "text": [
      "Options selected.\n",
      "\n",
      "Menu:\n",
      "1. Start Game\n",
      "2. Options\n",
      "3. Exit\n"
     ]
    },
    {
     "name": "stdin",
     "output_type": "stream",
     "text": [
      "Select an option (1/2/3):  3\n"
     ]
    },
    {
     "name": "stdout",
     "output_type": "stream",
     "text": [
      "Exiting the program. Goodbye!\n"
     ]
    }
   ],
   "source": [
    "def display_menu():\n",
    "    print(\"Menu:\")\n",
    "    print(\"1. Start Game\")\n",
    "    print(\"2. Options\")\n",
    "    print(\"3. Exit\")\n",
    "\n",
    "def main():\n",
    "    while True:\n",
    "        display_menu()\n",
    "        choice = input(\"Select an option (1/2/3): \").strip()\n",
    "        if choice == '1':\n",
    "            print(\"Starting game...\\n\")\n",
    "            # Add game logic here\n",
    "        elif choice == '2':\n",
    "            print(\"Options selected.\\n\")\n",
    "            # Add options logic here\n",
    "        elif choice == '3':\n",
    "            print(\"Exiting the program. Goodbye!\")\n",
    "            break  # Exit the loop and program\n",
    "        else:\n",
    "            print(\"Invalid selection. Please choose 1, 2, or 3.\\n\")\n",
    "\n",
    "main()\n"
   ]
  },
  {
   "cell_type": "code",
   "execution_count": 87,
   "id": "8f20be6a-ce08-4c7a-a9ea-044d535dd29b",
   "metadata": {},
   "outputs": [
    {
     "name": "stdin",
     "output_type": "stream",
     "text": [
      "Enter a number (or 'exit' to quit):  1\n"
     ]
    },
    {
     "name": "stdout",
     "output_type": "stream",
     "text": [
      "You entered the number: 1\n",
      "\n"
     ]
    },
    {
     "name": "stdin",
     "output_type": "stream",
     "text": [
      "Enter a number (or 'exit' to quit):  \n"
     ]
    },
    {
     "name": "stdout",
     "output_type": "stream",
     "text": [
      "That's not a valid number. Try again.\n",
      "\n"
     ]
    },
    {
     "name": "stdin",
     "output_type": "stream",
     "text": [
      "Enter a number (or 'exit' to quit):  w\n"
     ]
    },
    {
     "name": "stdout",
     "output_type": "stream",
     "text": [
      "That's not a valid number. Try again.\n",
      "\n"
     ]
    },
    {
     "name": "stdin",
     "output_type": "stream",
     "text": [
      "Enter a number (or 'exit' to quit):  d\n"
     ]
    },
    {
     "name": "stdout",
     "output_type": "stream",
     "text": [
      "That's not a valid number. Try again.\n",
      "\n"
     ]
    },
    {
     "name": "stdin",
     "output_type": "stream",
     "text": [
      "Enter a number (or 'exit' to quit):  2\n"
     ]
    },
    {
     "name": "stdout",
     "output_type": "stream",
     "text": [
      "You entered the number: 2\n",
      "\n"
     ]
    },
    {
     "name": "stdin",
     "output_type": "stream",
     "text": [
      "Enter a number (or 'exit' to quit):  exit\n"
     ]
    }
   ],
   "source": [
    "while True:\n",
    "    num = input(\"Enter a number (or 'exit' to quit): \").strip()\n",
    "    if num.lower() == 'exit':\n",
    "        break\n",
    "    if not num.isdigit():\n",
    "        print(\"That's not a valid number. Try again.\\n\")\n",
    "        continue  # Skip the rest and prompt again\n",
    "    print(f\"You entered the number: {num}\\n\")\n"
   ]
  }
 ],
 "metadata": {
  "kernelspec": {
   "display_name": "Python 3 (ipykernel)",
   "language": "python",
   "name": "python3"
  },
  "language_info": {
   "codemirror_mode": {
    "name": "ipython",
    "version": 3
   },
   "file_extension": ".py",
   "mimetype": "text/x-python",
   "name": "python",
   "nbconvert_exporter": "python",
   "pygments_lexer": "ipython3",
   "version": "3.13.0"
  }
 },
 "nbformat": 4,
 "nbformat_minor": 5
}
