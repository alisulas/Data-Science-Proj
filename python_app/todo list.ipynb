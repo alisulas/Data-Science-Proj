{
 "cells": [
  {
   "cell_type": "code",
   "execution_count": null,
   "id": "cbcc996e-fde2-4be6-b904-8bb548d57c97",
   "metadata": {},
   "outputs": [],
   "source": [
    "#initialize an empty list to hold the tasks\n",
    "\n",
    "tasks : []"
   ]
  },
  {
   "cell_type": "code",
   "execution_count": 13,
   "id": "5bfecab7-568b-4e66-b66f-ff8f03a6295f",
   "metadata": {},
   "outputs": [],
   "source": [
    "def add_task(task):\n",
    "    tasks.append(task)\n",
    "    print(f'task \"{task}\" has been added')"
   ]
  },
  {
   "cell_type": "code",
   "execution_count": 42,
   "id": "572607b5-4ac1-4cb8-9de3-f39a446161ae",
   "metadata": {},
   "outputs": [],
   "source": [
    "def view_tasks():\n",
    "    # This function displays all the tasks in the tasks list.\n",
    "    if not tasks:  # Checks if the tasks list is empty.\n",
    "        print(\"No tasks in the list.\")  # Informs the user that there are no tasks.\n",
    "    else:\n",
    "        print(\"Your Todo List:\")  # Prepares to display tasks.\n",
    "        # Enumerate gives an index (starting at 1) along with each task.\n",
    "        for index, task in enumerate(tasks, start=1):\n",
    "            print(f\"{index}. {task}\")  # Displays each task with its number.\n"
   ]
  },
  {
   "cell_type": "code",
   "execution_count": 43,
   "id": "4775737f-dfae-483d-9871-27e1c6bc8229",
   "metadata": {},
   "outputs": [],
   "source": [
    "def remove_task(task_number):\n",
    "    # This function removes a task based on the task number provided by the user.\n",
    "    # task_number is expected to be an integer representing the task's position.\n",
    "    if 0 < task_number <= len(tasks):  # Checks if the task number is valid.\n",
    "        removed_task = tasks.pop(task_number - 1)  # Removes the task from the list.\n",
    "        print(f'Task \"{removed_task}\" removed from the list.')  # Confirms that the task has been removed.\n",
    "    else:\n",
    "        print(\"Invalid task number.\")  # Informs the user if the task number is not valid.\n"
   ]
  },
  {
   "cell_type": "code",
   "execution_count": 44,
   "id": "a5d51bdd-6214-44dc-9bbc-c6eb74d125f4",
   "metadata": {},
   "outputs": [],
   "source": [
    "def main():\n",
    "    # This function runs the main loop of the Todo List application.\n",
    "    while True:  # Continuously runs until the user chooses to exit.\n",
    "        print(\"\\nOptions:\")  # Displays available options to the user.\n",
    "        print(\"1. View Tasks\")  # Option to view all tasks.\n",
    "        print(\"2. Add Task\")  # Option to add a new task.\n",
    "        print(\"3. Remove Task\")  # Option to remove a task.\n",
    "        print(\"4. Exit\")  # Option to exit the program.\n",
    "\n",
    "        choice = input(\"Choose an option (1-4): \")  # Gets the user's choice.\n",
    "\n",
    "        if choice == '1':\n",
    "            view_tasks()  # Calls the function to view tasks.\n",
    "        elif choice == '2':\n",
    "            task = input(\"Enter the task: \")  # Prompts the user to enter a task.\n",
    "            add_task(task)  # Calls the function to add the task.\n",
    "        elif choice == '3':\n",
    "            task_number = int(input(\"Enter the task number to remove: \"))  # Prompts for the task number to remove.\n",
    "            remove_task(task_number)  # Calls the function to remove the task.\n",
    "        elif choice == '4':\n",
    "            print(\"Exiting the program. Goodbye!\")  # Message before exiting.\n",
    "            break  # Breaks the loop to exit the program.\n",
    "        else:\n",
    "            print(\"Invalid choice. Please try again.\")  # Informs the user of an invalid option.\n"
   ]
  },
  {
   "cell_type": "code",
   "execution_count": 46,
   "id": "4e9ff4d9-4d58-40b5-a506-fa9c663190f2",
   "metadata": {},
   "outputs": [
    {
     "name": "stdout",
     "output_type": "stream",
     "text": [
      "\n",
      "Options:\n",
      "1. View Tasks\n",
      "2. Add Task\n",
      "3. Remove Task\n",
      "4. Exit\n"
     ]
    },
    {
     "name": "stdin",
     "output_type": "stream",
     "text": [
      "Choose an option (1-4):  1\n"
     ]
    },
    {
     "name": "stdout",
     "output_type": "stream",
     "text": [
      "Your Todo List:\n",
      "1. Complete homework\n",
      "2. baju\n",
      "\n",
      "Options:\n",
      "1. View Tasks\n",
      "2. Add Task\n",
      "3. Remove Task\n",
      "4. Exit\n"
     ]
    },
    {
     "name": "stdin",
     "output_type": "stream",
     "text": [
      "Choose an option (1-4):  2\n",
      "Enter the task:  ke ancol\n"
     ]
    },
    {
     "name": "stdout",
     "output_type": "stream",
     "text": [
      "task \"ke ancol\" has been added\n",
      "\n",
      "Options:\n",
      "1. View Tasks\n",
      "2. Add Task\n",
      "3. Remove Task\n",
      "4. Exit\n"
     ]
    },
    {
     "name": "stdin",
     "output_type": "stream",
     "text": [
      "Choose an option (1-4):  3\n",
      "Enter the task number to remove:  2\n"
     ]
    },
    {
     "name": "stdout",
     "output_type": "stream",
     "text": [
      "Task \"baju\" removed from the list.\n",
      "\n",
      "Options:\n",
      "1. View Tasks\n",
      "2. Add Task\n",
      "3. Remove Task\n",
      "4. Exit\n"
     ]
    },
    {
     "name": "stdin",
     "output_type": "stream",
     "text": [
      "Choose an option (1-4):  4\n"
     ]
    },
    {
     "name": "stdout",
     "output_type": "stream",
     "text": [
      "Exiting the program. Goodbye!\n"
     ]
    }
   ],
   "source": [
    "if __name__ == \"__main__\":\n",
    "    main()  # Calls the main function to start the program."
   ]
  },
  {
   "cell_type": "code",
   "execution_count": null,
   "id": "fcb67e65-6b6a-4c44-a40b-1d197f158851",
   "metadata": {},
   "outputs": [],
   "source": []
  }
 ],
 "metadata": {
  "kernelspec": {
   "display_name": "Python 3 (ipykernel)",
   "language": "python",
   "name": "python3"
  },
  "language_info": {
   "codemirror_mode": {
    "name": "ipython",
    "version": 3
   },
   "file_extension": ".py",
   "mimetype": "text/x-python",
   "name": "python",
   "nbconvert_exporter": "python",
   "pygments_lexer": "ipython3",
   "version": "3.13.0"
  }
 },
 "nbformat": 4,
 "nbformat_minor": 5
}
