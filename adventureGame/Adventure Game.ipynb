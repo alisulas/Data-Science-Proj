{
 "cells": [
  {
   "cell_type": "code",
   "execution_count": 2,
   "id": "ec920495-f83e-4987-896c-39f9b1f72bf5",
   "metadata": {},
   "outputs": [
    {
     "ename": "TypeError",
     "evalue": "__init__() should return None, not 'str'",
     "output_type": "error",
     "traceback": [
      "\u001b[0;31m---------------------------------------------------------------------------\u001b[0m",
      "\u001b[0;31mTypeError\u001b[0m                                 Traceback (most recent call last)",
      "Cell \u001b[0;32mIn[2], line 10\u001b[0m\n\u001b[1;32m      5\u001b[0m         \u001b[38;5;28mself\u001b[39m\u001b[38;5;241m.\u001b[39mweight \u001b[38;5;241m=\u001b[39m weight\n\u001b[1;32m      6\u001b[0m         \u001b[38;5;28;01mreturn\u001b[39;00m \u001b[38;5;124mf\u001b[39m\u001b[38;5;124m\"\u001b[39m\u001b[38;5;132;01m{\u001b[39;00m\u001b[38;5;28mself\u001b[39m\u001b[38;5;241m.\u001b[39mname\u001b[38;5;132;01m}\u001b[39;00m\u001b[38;5;124m (weight: \u001b[39m\u001b[38;5;132;01m{\u001b[39;00m\u001b[38;5;28mself\u001b[39m\u001b[38;5;241m.\u001b[39mweight\u001b[38;5;132;01m}\u001b[39;00m\u001b[38;5;124m)\u001b[39m\u001b[38;5;124m\"\u001b[39m\n\u001b[0;32m---> 10\u001b[0m item \u001b[38;5;241m=\u001b[39m \u001b[43mItem\u001b[49m\u001b[43m(\u001b[49m\u001b[38;5;124;43m\"\u001b[39;49m\u001b[38;5;124;43mSword\u001b[39;49m\u001b[38;5;124;43m\"\u001b[39;49m\u001b[43m,\u001b[49m\u001b[43m \u001b[49m\u001b[38;5;241;43m10.5\u001b[39;49m\u001b[43m)\u001b[49m\n\u001b[1;32m     11\u001b[0m \u001b[38;5;28mprint\u001b[39m(item)  \u001b[38;5;66;03m# Output: Sword (weight: 10.5)\u001b[39;00m\n",
      "\u001b[0;31mTypeError\u001b[0m: __init__() should return None, not 'str'"
     ]
    }
   ],
   "source": [
    "# Define the Item class\n",
    "class Item:\n",
    "    def __init__(self, name: str, weight: float):\n",
    "        self.name = name\n",
    "        self.weight = weight\n",
    "\n",
    "    def __str__(self):\n",
    "        return f\"{self.name} (weight: {self.weight})\"\n",
    "\n",
    "\n",
    "\n",
    "item = Item(\"Sword\", 10.5)\n",
    "\n",
    "print(item)  # Output: Sword (weight: 10.5)\n"
   ]
  },
  {
   "cell_type": "code",
   "execution_count": 17,
   "id": "dd790724-a902-4907-89bc-b90d27cd93dc",
   "metadata": {},
   "outputs": [
    {
     "name": "stdout",
     "output_type": "stream",
     "text": [
      "mine_D\n",
      "Canis familiaris\n",
      "yourD Haaauuuuuu\n",
      "Canis familiaris\n"
     ]
    }
   ],
   "source": [
    "class Dog:\n",
    "    species = \"Canis familiaris\" \n",
    "    \n",
    "    def __init__(self, name, age):\n",
    "        self.name = name\n",
    "        self.age = age\n",
    "\n",
    "    def menjerit(self):\n",
    "        return f\"{self.name} Haaauuuuuu\"\n",
    "\n",
    "    @classmethod\n",
    "    def common_species(cls):\n",
    "        return cls.species\n",
    "\n",
    "my_dog = Dog(\"mine_D\", 9)\n",
    "your_dog = Dog(\"yourD\", 10)\n",
    "print(my_dog.name)\n",
    "print(your_dog.species)\n",
    "print(your_dog.menjerit())\n",
    "print(your_dog.common_species())\n",
    "        "
   ]
  },
  {
   "cell_type": "code",
   "execution_count": 11,
   "id": "4d637d5c-b6f9-44f3-acb3-3f3c5abf6c23",
   "metadata": {},
   "outputs": [
    {
     "name": "stdout",
     "output_type": "stream",
     "text": [
      "Buddy\n",
      "3\n"
     ]
    }
   ],
   "source": [
    "class Dog:\n",
    "    def __init__(self, name, age):\n",
    "        self.name = name\n",
    "        self.age = age\n",
    "\n",
    "    def bark(self):\n",
    "        return f\"{self.name} says woof!\"\n",
    "\n",
    "my_dog = Dog(\"Buddy\", 5)\n",
    "print(my_dog.bark())  # Output: Buddy says woof!\n"
   ]
  },
  {
   "cell_type": "code",
   "execution_count": 18,
   "id": "0599d51a-b60f-4136-b08e-5a802f1afd9a",
   "metadata": {},
   "outputs": [
    {
     "name": "stdout",
     "output_type": "stream",
     "text": [
      "John(36)\n"
     ]
    }
   ],
   "source": [
    "class Person:\n",
    "  def __init__(self, name, age):\n",
    "    self.name = name\n",
    "    self.age = age\n",
    "\n",
    "  def __str__(self):\n",
    "    return f\"{self.name}({self.age})\"\n",
    "\n",
    "p1 = Person(\"John\", 36)\n",
    "\n",
    "print(p1)"
   ]
  }
 ],
 "metadata": {
  "kernelspec": {
   "display_name": "Python 3 (ipykernel)",
   "language": "python",
   "name": "python3"
  },
  "language_info": {
   "codemirror_mode": {
    "name": "ipython",
    "version": 3
   },
   "file_extension": ".py",
   "mimetype": "text/x-python",
   "name": "python",
   "nbconvert_exporter": "python",
   "pygments_lexer": "ipython3",
   "version": "3.13.0"
  }
 },
 "nbformat": 4,
 "nbformat_minor": 5
}
